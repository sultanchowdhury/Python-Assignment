{
 "cells": [
  {
   "cell_type": "markdown",
   "id": "02e4790c",
   "metadata": {},
   "source": [
    "1. Take values of the length & breadth of a rectangle from user input and check if it is square or not."
   ]
  },
  {
   "cell_type": "code",
   "execution_count": null,
   "id": "f3ba14dc",
   "metadata": {},
   "outputs": [],
   "source": [
    "length=float(input())\n",
    "breadth=float(input())\n",
    "if length==breadth:\n",
    "    print('It is squre')\n",
    "else:\n",
    "    print('It is not squre')"
   ]
  },
  {
   "cell_type": "markdown",
   "id": "d87086db",
   "metadata": {},
   "source": [
    " 2.Take three integer values from the user and print the greatest among them"
   ]
  },
  {
   "cell_type": "code",
   "execution_count": null,
   "id": "e88f5c0d",
   "metadata": {},
   "outputs": [],
   "source": [
    "user1=int(input('Enter number'))\n",
    "user2=int(input('Enter number'))\n",
    "user3=int(input('Enter number'))\n",
    "if user1>user2 and user1>user3:\n",
    "    print('The greatest number is',user1)\n",
    "elif user2>user1 and user2>user3:\n",
    "    print('The greatest number is',user2)\n",
    "else:\n",
    "    print('The greatest number is', user3)\n",
    "\n"
   ]
  },
  {
   "cell_type": "markdown",
   "id": "ae478ce7",
   "metadata": {},
   "source": [
    "3. A student will not be allowed to sit in an exam if his/her attendance is less than 75%."
   ]
  },
  {
   "cell_type": "code",
   "execution_count": null,
   "id": "ec46d59e",
   "metadata": {},
   "outputs": [],
   "source": [
    "attend_class=int(input())\n",
    "total_class=int(input())\n",
    "attend_per=(attend_class/total_class)*100\n",
    "if attend_per>=75:\n",
    "    print('you are eligible to sit in an exam')\n",
    "else:\n",
    "    print('you are not eligible to sit in an exam')"
   ]
  },
  {
   "cell_type": "markdown",
   "id": "a1a8aaba",
   "metadata": {},
   "source": [
    "4. A school has the following rules for the grading system:\n",
    "Below 25 – F, 25 to 44 – E, 45 to 49 – D, 50 to 59 – C, 60 to 79 – B, 80 to 89 - A, Above 90 - A+\n",
    "Now, Ask the user to enter marks and print the corresponding grade."
   ]
  },
  {
   "cell_type": "code",
   "execution_count": null,
   "id": "02fbad69",
   "metadata": {},
   "outputs": [],
   "source": [
    "mark=int(input('Enter the mark'))\n",
    "if mark<25:\n",
    "    print('The Grade is F')\n",
    "elif mark<45:\n",
    "    print('The Grade is E')\n",
    "elif mark<50:\n",
    "    print('The Grade is D')\n",
    "elif mark<60:\n",
    "    print('The Grade is C')\n",
    "elif mark<80:\n",
    "    print('The Grade is B')\n",
    "elif mark<90:\n",
    "    print('The Grade is A')\n",
    "else:\n",
    "    print('The Grade is A+')\n"
   ]
  },
  {
   "cell_type": "markdown",
   "id": "6c80d9e8",
   "metadata": {},
   "source": [
    "5. Print the following pattern using for and while loop.\n",
    "1 2 3 4 5 6 7\n",
    "1 2 3 4 5 6\n",
    "1 2 3 4 5\n",
    "1 2 3 4"
   ]
  },
  {
   "cell_type": "code",
   "execution_count": null,
   "id": "19a23aa9",
   "metadata": {},
   "outputs": [],
   "source": [
    "\n",
    "for i in range(7, 3, -1):\n",
    "    for j in range(1, i+1):\n",
    "        print(j, end=' ')\n",
    "    print()\n"
   ]
  },
  {
   "cell_type": "code",
   "execution_count": null,
   "id": "97e3a33e",
   "metadata": {},
   "outputs": [],
   "source": [
    "i = 7\n",
    "while i > 3:\n",
    "    j = 1\n",
    "    while j <= i:\n",
    "        print(j, end=' ')\n",
    "        j += 1\n",
    "    print()\n",
    "    i -= 1"
   ]
  },
  {
   "cell_type": "markdown",
   "id": "4f20610f",
   "metadata": {},
   "source": [
    "6. Display numbers from -100 to -10 using for loop."
   ]
  },
  {
   "cell_type": "code",
   "execution_count": null,
   "id": "fec38251",
   "metadata": {},
   "outputs": [],
   "source": [
    "for i in range(-100,-9):\n",
    "    print(i, end=' ')\n",
    "    "
   ]
  },
  {
   "cell_type": "markdown",
   "id": "7d794ea0",
   "metadata": {},
   "source": [
    "7. Write a program to sum all prime numbers within a range of 10 to 1000."
   ]
  },
  {
   "cell_type": "code",
   "execution_count": null,
   "id": "df6c8d2a",
   "metadata": {},
   "outputs": [],
   "source": []
  },
  {
   "cell_type": "markdown",
   "id": "140d1025",
   "metadata": {},
   "source": [
    "8. Find the factorial of an n! (Hint, n=7: 7*6*5*4*3*2*1)."
   ]
  },
  {
   "cell_type": "code",
   "execution_count": null,
   "id": "93885e69",
   "metadata": {},
   "outputs": [],
   "source": [
    "def fact(n):\n",
    "    if n == 0:\n",
    "        return 1\n",
    "    else:\n",
    "        return n * fact(n - 1)\n",
    "\n",
    "n = 7\n",
    "result = fact(n)\n",
    "\n",
    "print(\"The factorial of\", n, \"is:\", result)"
   ]
  },
  {
   "cell_type": "markdown",
   "id": "e33e0277",
   "metadata": {},
   "source": [
    "9. Reverse a given integer number 27956240710."
   ]
  },
  {
   "cell_type": "code",
   "execution_count": null,
   "id": "e0b3bc65",
   "metadata": {},
   "outputs": [],
   "source": [
    "def reverse_integer(num):\n",
    "    reversed_num = 0\n",
    "\n",
    "    while num != 0:\n",
    "        remainder = num % 10\n",
    "        reversed_num = (reversed_num * 10) + remainder\n",
    "        num //= 10\n",
    "\n",
    "    return reversed_num\n",
    "\n",
    "number = 27956240710\n",
    "reversed_number = reverse_integer(number)\n",
    "\n",
    "print('origin Num:', number)\n",
    "print('Reverse Num:', reversed_number)"
   ]
  },
  {
   "cell_type": "markdown",
   "id": "7e26a5fd",
   "metadata": {},
   "source": [
    "10. Print the following pattern using for and while loop."
   ]
  },
  {
   "cell_type": "code",
   "execution_count": null,
   "id": "356014e8",
   "metadata": {},
   "outputs": [],
   "source": [
    "\n",
    "for i in range(1, 5):\n",
    "    if i <= 3:\n",
    "        print('# # #')\n",
    "    else:\n",
    "        print('# #')"
   ]
  },
  {
   "cell_type": "code",
   "execution_count": null,
   "id": "bfc77ad9",
   "metadata": {},
   "outputs": [],
   "source": [
    "i = 1\n",
    "while i <= 4:\n",
    "    if i <= 3:\n",
    "        print(\"# # #\")\n",
    "    else:\n",
    "        print(\"# #\")\n",
    "    i += 1"
   ]
  },
  {
   "cell_type": "markdown",
   "id": "5ca02904",
   "metadata": {},
   "source": [
    "11. Display the Fibonacci series of 15 elements using the for and while loop."
   ]
  },
  {
   "cell_type": "code",
   "execution_count": null,
   "id": "23c95fc5",
   "metadata": {},
   "outputs": [],
   "source": [
    "a, b = 0, 1\n",
    "\n",
    "print('Fibonacci series using for loop:')\n",
    "print(a, end=' ')\n",
    "print(b, end=' ')\n",
    "\n",
    "for _ in range(13):\n",
    "    a, b = b, a + b\n",
    "    print(b, end=' ')"
   ]
  },
  {
   "cell_type": "code",
   "execution_count": null,
   "id": "5366fb17",
   "metadata": {},
   "outputs": [],
   "source": [
    "a, b = 0, 1\n",
    "count = 0\n",
    "\n",
    "print(\"Fibonacci series using while loop:\")\n",
    "print(a, end=' ')\n",
    "print(b, end=' ')\n",
    "\n",
    "while count < 13:\n",
    "    a, b = b, a + b\n",
    "    print(b, end=' ')\n",
    "    count += 1"
   ]
  },
  {
   "cell_type": "markdown",
   "id": "fad765e9",
   "metadata": {},
   "source": [
    "12. Remove 2 and add 3 to the list and replace True with False.\n",
    "Li = [1,3,5, [2,3], True]\n",
    "Output = [1,3,5, [3,3], False]"
   ]
  },
  {
   "cell_type": "code",
   "execution_count": null,
   "id": "e7aac603",
   "metadata": {},
   "outputs": [],
   "source": [
    "li = [1, 3, 5, [2, 3], True]\n",
    "li[3].remove(2)\n",
    "li[3].append(3)\n",
    "li[-1]=False\n",
    "print(li)\n",
    "\n"
   ]
  },
  {
   "cell_type": "markdown",
   "id": "6009af1e",
   "metadata": {},
   "source": [
    "13. Find the intersection (common) of two sets.\n",
    "S1 = {1,4,6,8}\n",
    "S2 = {True, 1,2,10}"
   ]
  },
  {
   "cell_type": "code",
   "execution_count": null,
   "id": "a579f757",
   "metadata": {},
   "outputs": [],
   "source": [
    "s1 = {1,4,6,8}\n",
    "s2 = {1,2,10,True}\n",
    "S3=s1.intersection(s2)\n",
    "print(S3)   "
   ]
  },
  {
   "cell_type": "markdown",
   "id": "0565aa5c",
   "metadata": {},
   "source": [
    "14. Input a list from the user then Remove duplicates from a list and create a set and find the max\n",
    "number. User_input = [1,9,3,4,5,200,54]"
   ]
  },
  {
   "cell_type": "code",
   "execution_count": null,
   "id": "f24a6190",
   "metadata": {},
   "outputs": [],
   "source": [
    "\n",
    "user=input('Enter the list  ')\n",
    "li=[int(i)for i in user.split(',')]\n",
    "se=set(li)\n",
    "max_num=max(se)\n",
    "print('Find the unique Number',se)\n",
    "print('Find the max number',max_num)"
   ]
  },
  {
   "cell_type": "markdown",
   "id": "5d6cb3a6",
   "metadata": {},
   "source": [
    "15. Rename the key of a dictionary.\n",
    "Dict = { \"name\": \"Shakil\", \"age\":27, \"city\": “Berlin”, \"country\": \"Germany\" }\n",
    "Write a program to rename a key ‘country’ to a ‘region’ in the following dictionary."
   ]
  },
  {
   "cell_type": "code",
   "execution_count": null,
   "id": "29fdc0f1",
   "metadata": {},
   "outputs": [],
   "source": [
    "Dict = {\"name\": \"Shakil\", \"age\": 27, \"city\": \"Berlin\", \"country\": \"Germany\"}\n",
    "\n",
    "Dict['region'] = Dict.pop('country')\n",
    "\n",
    "print(Dict)\n"
   ]
  },
  {
   "cell_type": "markdown",
   "id": "1b29158e",
   "metadata": {},
   "source": [
    "16. Creating a data frame using the list.\n",
    "num = [10,100,300] (column name is number)"
   ]
  },
  {
   "cell_type": "code",
   "execution_count": null,
   "id": "38b728c5",
   "metadata": {},
   "outputs": [],
   "source": [
    "import pandas as pd\n",
    "num=[10,100,300]\n",
    "df=pd.DataFrame(num,columns=['number'])\n",
    "print(df)"
   ]
  },
  {
   "cell_type": "markdown",
   "id": "6545944a",
   "metadata": {},
   "source": [
    "17. Change the value of a key in a given dictionary.\n",
    "Write a Python program to change ‘age’ to 28 in the following dictionary.\n",
    "Dict = { \"name\": \"Shakil\", \"age\":27, \"city\": “Berlin”, \"country\": \"Germany\" }"
   ]
  },
  {
   "cell_type": "code",
   "execution_count": null,
   "id": "1935d2b6",
   "metadata": {},
   "outputs": [],
   "source": [
    "Dict={ \"name\": \"Shakil\", \"age\":27, \"city\": \"Berlin\", \"country\": \"Germany\" }\n",
    "Dict['age']=30\n",
    "print(Dict)"
   ]
  }
 ],
 "metadata": {
  "kernelspec": {
   "display_name": "Python 3 (ipykernel)",
   "language": "python",
   "name": "python3"
  },
  "language_info": {
   "codemirror_mode": {
    "name": "ipython",
    "version": 3
   },
   "file_extension": ".py",
   "mimetype": "text/x-python",
   "name": "python",
   "nbconvert_exporter": "python",
   "pygments_lexer": "ipython3",
   "version": "3.10.9"
  }
 },
 "nbformat": 4,
 "nbformat_minor": 5
}
